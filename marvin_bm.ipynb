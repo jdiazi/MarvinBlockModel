{
  "nbformat": 4,
  "nbformat_minor": 0,
  "metadata": {
    "colab": {
      "name": "marvin_bm.ipynb",
      "provenance": [],
      "collapsed_sections": [],
      "mount_file_id": "1RvuZzz4Gx-VUjVXYc7i2DIDWuzgHR5PL",
      "authorship_tag": "ABX9TyP0EUOVTMkdQsSZcaIP3QGt",
      "include_colab_link": true
    },
    "kernelspec": {
      "name": "python3",
      "display_name": "Python 3"
    },
    "language_info": {
      "name": "python"
    }
  },
  "cells": [
    {
      "cell_type": "markdown",
      "metadata": {
        "id": "view-in-github",
        "colab_type": "text"
      },
      "source": [
        "<a href=\"https://colab.research.google.com/github/jdiazi/marvin_block_model/blob/main/marvin_bm.ipynb\" target=\"_parent\"><img src=\"https://colab.research.google.com/assets/colab-badge.svg\" alt=\"Open In Colab\"/></a>"
      ]
    },
    {
      "cell_type": "code",
      "metadata": {
        "id": "9yyor0S3ZQoo"
      },
      "source": [
        "import pandas as pd\n",
        "import numpy as np\n",
        "import matplotlib.pyplot as plt\n",
        "pd.options.display.float_format = '{:.2f}'.format"
      ],
      "execution_count": null,
      "outputs": []
    },
    {
      "cell_type": "code",
      "metadata": {
        "colab": {
          "base_uri": "https://localhost:8080/",
          "height": 111
        },
        "id": "77KeBmCoxlQi",
        "outputId": "708489c3-69b0-48f9-88c7-72981881e2ee"
      },
      "source": [
        "marvin = pd.read_csv(\"/content/drive/MyDrive/Colab Notebooks/Marvin.csv\")\n",
        "marvin[:2]"
      ],
      "execution_count": null,
      "outputs": [
        {
          "output_type": "execute_result",
          "data": {
            "text/html": [
              "<div>\n",
              "<style scoped>\n",
              "    .dataframe tbody tr th:only-of-type {\n",
              "        vertical-align: middle;\n",
              "    }\n",
              "\n",
              "    .dataframe tbody tr th {\n",
              "        vertical-align: top;\n",
              "    }\n",
              "\n",
              "    .dataframe thead th {\n",
              "        text-align: right;\n",
              "    }\n",
              "</style>\n",
              "<table border=\"1\" class=\"dataframe\">\n",
              "  <thead>\n",
              "    <tr style=\"text-align: right;\">\n",
              "      <th></th>\n",
              "      <th>X</th>\n",
              "      <th>Y</th>\n",
              "      <th>Z</th>\n",
              "      <th>CU</th>\n",
              "      <th>AU</th>\n",
              "      <th>density</th>\n",
              "      <th>value_process</th>\n",
              "      <th>value_plant</th>\n",
              "    </tr>\n",
              "  </thead>\n",
              "  <tbody>\n",
              "    <tr>\n",
              "      <th>0</th>\n",
              "      <td>15</td>\n",
              "      <td>15</td>\n",
              "      <td>15</td>\n",
              "      <td>0.00</td>\n",
              "      <td>0.00</td>\n",
              "      <td>2.27</td>\n",
              "      <td>-299880.00</td>\n",
              "      <td>-55080.00</td>\n",
              "    </tr>\n",
              "    <tr>\n",
              "      <th>1</th>\n",
              "      <td>15</td>\n",
              "      <td>15</td>\n",
              "      <td>45</td>\n",
              "      <td>0.00</td>\n",
              "      <td>0.00</td>\n",
              "      <td>2.27</td>\n",
              "      <td>-299880.00</td>\n",
              "      <td>-55080.00</td>\n",
              "    </tr>\n",
              "  </tbody>\n",
              "</table>\n",
              "</div>"
            ],
            "text/plain": [
              "    X   Y   Z   CU   AU  density  value_process  value_plant\n",
              "0  15  15  15 0.00 0.00     2.27     -299880.00    -55080.00\n",
              "1  15  15  45 0.00 0.00     2.27     -299880.00    -55080.00"
            ]
          },
          "metadata": {
            "tags": []
          },
          "execution_count": 2
        }
      ]
    },
    {
      "cell_type": "code",
      "metadata": {
        "id": "ze_Np9vKz2zz"
      },
      "source": [
        "# Conditions\n",
        "AuPrice = 12\n",
        "AuSelling = .2\n",
        "AuRec = .6\n",
        "CuPrice = 20\n",
        "CuSelling = 7.2\n",
        "CuRec = .88"
      ],
      "execution_count": null,
      "outputs": []
    },
    {
      "cell_type": "code",
      "metadata": {
        "id": "iIWT8ZZyz22w"
      },
      "source": [
        "marvin[\"CUEQ\"] = marvin.CU + marvin.AU*(AuPrice-AuSelling)*AuRec/((CuPrice-CuSelling)/CuRec)\n",
        "marvin[\"TON\"] = (15**3)*marvin.density\n",
        "marvin[\"MAXVALUE\"] = marvin[[\"value_process\", \"value_plant\"]].max(axis=1)"
      ],
      "execution_count": null,
      "outputs": []
    },
    {
      "cell_type": "code",
      "metadata": {
        "colab": {
          "base_uri": "https://localhost:8080/",
          "height": 111
        },
        "id": "QYf_ze97z25-",
        "outputId": "d1dd0a54-f61c-4a63-bfb8-59d39bbfd3dc"
      },
      "source": [
        "marvin[:2]"
      ],
      "execution_count": null,
      "outputs": [
        {
          "output_type": "execute_result",
          "data": {
            "text/html": [
              "<div>\n",
              "<style scoped>\n",
              "    .dataframe tbody tr th:only-of-type {\n",
              "        vertical-align: middle;\n",
              "    }\n",
              "\n",
              "    .dataframe tbody tr th {\n",
              "        vertical-align: top;\n",
              "    }\n",
              "\n",
              "    .dataframe thead th {\n",
              "        text-align: right;\n",
              "    }\n",
              "</style>\n",
              "<table border=\"1\" class=\"dataframe\">\n",
              "  <thead>\n",
              "    <tr style=\"text-align: right;\">\n",
              "      <th></th>\n",
              "      <th>X</th>\n",
              "      <th>Y</th>\n",
              "      <th>Z</th>\n",
              "      <th>CU</th>\n",
              "      <th>AU</th>\n",
              "      <th>density</th>\n",
              "      <th>value_process</th>\n",
              "      <th>value_plant</th>\n",
              "      <th>CUEQ</th>\n",
              "      <th>TON</th>\n",
              "      <th>MAXVALUE</th>\n",
              "    </tr>\n",
              "  </thead>\n",
              "  <tbody>\n",
              "    <tr>\n",
              "      <th>0</th>\n",
              "      <td>15</td>\n",
              "      <td>15</td>\n",
              "      <td>15</td>\n",
              "      <td>0.00</td>\n",
              "      <td>0.00</td>\n",
              "      <td>2.27</td>\n",
              "      <td>-299880.00</td>\n",
              "      <td>-55080.00</td>\n",
              "      <td>0.00</td>\n",
              "      <td>7650.01</td>\n",
              "      <td>-55080.00</td>\n",
              "    </tr>\n",
              "    <tr>\n",
              "      <th>1</th>\n",
              "      <td>15</td>\n",
              "      <td>15</td>\n",
              "      <td>45</td>\n",
              "      <td>0.00</td>\n",
              "      <td>0.00</td>\n",
              "      <td>2.27</td>\n",
              "      <td>-299880.00</td>\n",
              "      <td>-55080.00</td>\n",
              "      <td>0.00</td>\n",
              "      <td>7650.01</td>\n",
              "      <td>-55080.00</td>\n",
              "    </tr>\n",
              "  </tbody>\n",
              "</table>\n",
              "</div>"
            ],
            "text/plain": [
              "    X   Y   Z   CU   AU  ...  value_process  value_plant  CUEQ     TON  MAXVALUE\n",
              "0  15  15  15 0.00 0.00  ...     -299880.00    -55080.00  0.00 7650.01 -55080.00\n",
              "1  15  15  45 0.00 0.00  ...     -299880.00    -55080.00  0.00 7650.01 -55080.00\n",
              "\n",
              "[2 rows x 11 columns]"
            ]
          },
          "metadata": {
            "tags": []
          },
          "execution_count": 5
        }
      ]
    },
    {
      "cell_type": "markdown",
      "metadata": {
        "id": "nYlzxeJSfFZl"
      },
      "source": [
        "## **Marvin Block Model with optimazed values**"
      ]
    },
    {
      "cell_type": "code",
      "metadata": {
        "colab": {
          "base_uri": "https://localhost:8080/",
          "height": 148
        },
        "id": "qKVjKO4dz286",
        "outputId": "89daf111-7f8f-4222-9cd0-bb0b153efe1c"
      },
      "source": [
        "maropt = pd.read_excel(\"/content/drive/MyDrive/Colab Notebooks/marvin2.xlsx\")\n",
        "maropt[:2]"
      ],
      "execution_count": null,
      "outputs": [
        {
          "output_type": "execute_result",
          "data": {
            "text/html": [
              "<div>\n",
              "<style scoped>\n",
              "    .dataframe tbody tr th:only-of-type {\n",
              "        vertical-align: middle;\n",
              "    }\n",
              "\n",
              "    .dataframe tbody tr th {\n",
              "        vertical-align: top;\n",
              "    }\n",
              "\n",
              "    .dataframe thead th {\n",
              "        text-align: right;\n",
              "    }\n",
              "</style>\n",
              "<table border=\"1\" class=\"dataframe\">\n",
              "  <thead>\n",
              "    <tr style=\"text-align: right;\">\n",
              "      <th></th>\n",
              "      <th>X</th>\n",
              "      <th>Y</th>\n",
              "      <th>Z</th>\n",
              "      <th>CU</th>\n",
              "      <th>AU</th>\n",
              "      <th>CUEQ</th>\n",
              "      <th>VALUEPROCESS</th>\n",
              "      <th>VALUEWASTE</th>\n",
              "      <th>TON</th>\n",
              "      <th>MAXVVALUE</th>\n",
              "      <th>PF</th>\n",
              "      <th>NESTED1</th>\n",
              "      <th>NESTEDVALUE1</th>\n",
              "      <th>NESTED1WASTE</th>\n",
              "      <th>NESTED2</th>\n",
              "      <th>NESTEDVALUE2</th>\n",
              "      <th>NESTED2WASTE</th>\n",
              "      <th>Tesp</th>\n",
              "      <th>Fase</th>\n",
              "      <th>age1</th>\n",
              "      <th>age2</th>\n",
              "      <th>age3</th>\n",
              "      <th>age4</th>\n",
              "      <th>age5</th>\n",
              "      <th>age6</th>\n",
              "      <th>age7</th>\n",
              "      <th>age8</th>\n",
              "      <th>Tiempo</th>\n",
              "      <th>Total CU</th>\n",
              "    </tr>\n",
              "  </thead>\n",
              "  <tbody>\n",
              "    <tr>\n",
              "      <th>0</th>\n",
              "      <td>15</td>\n",
              "      <td>15</td>\n",
              "      <td>15</td>\n",
              "      <td>0.00</td>\n",
              "      <td>0.00</td>\n",
              "      <td>0.00</td>\n",
              "      <td>-299880.00</td>\n",
              "      <td>-55080.00</td>\n",
              "      <td>61200.09</td>\n",
              "      <td>-55080.00</td>\n",
              "      <td>0</td>\n",
              "      <td>0</td>\n",
              "      <td>-55998.08</td>\n",
              "      <td>1</td>\n",
              "      <td>0</td>\n",
              "      <td>-55080.08</td>\n",
              "      <td>1</td>\n",
              "      <td>0.00</td>\n",
              "      <td>0</td>\n",
              "      <td>0.00</td>\n",
              "      <td>0.00</td>\n",
              "      <td>0.00</td>\n",
              "      <td>0.00</td>\n",
              "      <td>0.00</td>\n",
              "      <td>0.00</td>\n",
              "      <td>0.00</td>\n",
              "      <td>0.00</td>\n",
              "      <td>0</td>\n",
              "      <td>0.00</td>\n",
              "    </tr>\n",
              "    <tr>\n",
              "      <th>1</th>\n",
              "      <td>15</td>\n",
              "      <td>15</td>\n",
              "      <td>45</td>\n",
              "      <td>0.00</td>\n",
              "      <td>0.00</td>\n",
              "      <td>0.00</td>\n",
              "      <td>-299880.00</td>\n",
              "      <td>-55080.00</td>\n",
              "      <td>61200.09</td>\n",
              "      <td>-55080.00</td>\n",
              "      <td>0</td>\n",
              "      <td>0</td>\n",
              "      <td>-57834.09</td>\n",
              "      <td>1</td>\n",
              "      <td>0</td>\n",
              "      <td>-55080.08</td>\n",
              "      <td>1</td>\n",
              "      <td>0.00</td>\n",
              "      <td>0</td>\n",
              "      <td>0.00</td>\n",
              "      <td>0.00</td>\n",
              "      <td>0.00</td>\n",
              "      <td>0.00</td>\n",
              "      <td>0.00</td>\n",
              "      <td>0.00</td>\n",
              "      <td>0.00</td>\n",
              "      <td>0.00</td>\n",
              "      <td>0</td>\n",
              "      <td>0.00</td>\n",
              "    </tr>\n",
              "  </tbody>\n",
              "</table>\n",
              "</div>"
            ],
            "text/plain": [
              "    X   Y   Z   CU   AU  CUEQ  ...  age5  age6  age7  age8  Tiempo  Total CU\n",
              "0  15  15  15 0.00 0.00  0.00  ...  0.00  0.00  0.00  0.00       0      0.00\n",
              "1  15  15  45 0.00 0.00  0.00  ...  0.00  0.00  0.00  0.00       0      0.00\n",
              "\n",
              "[2 rows x 29 columns]"
            ]
          },
          "metadata": {
            "tags": []
          },
          "execution_count": 6
        }
      ]
    },
    {
      "cell_type": "code",
      "metadata": {
        "id": "6aWNBoI6z2_k"
      },
      "source": [
        "def incremental_pbp(df):\n",
        "  pbp = pd.pivot_table(df, values=\"TON\", index=\"NESTED2\", columns=\"NESTED2WASTE\", aggfunc=np.sum)\n",
        "  pbp[\"TotalTon\"] = pbp.iloc[:,0] + pbp.iloc[:,1]\n",
        "  pbp = pbp.rename(columns={0: 'Ore', 1: 'Waste'})\n",
        "  pbp[\"TotalProfit\"] = pd.pivot_table(df, values=\"MAXVVALUE\", index=\"NESTED2\", aggfunc=np.sum)\n",
        "  pbp[\"Profit/ton\"] = pbp.TotalProfit/pbp.TotalTon\n",
        "\n",
        "  # Delete Pitshell 0\n",
        "  pbp.drop(0, inplace=True)\n",
        "\n",
        "  # Fill NaN with 0\n",
        "  pbp.fillna(0, inplace=True)\n",
        "\n",
        "  # Finding and filling missing pitshells\n",
        "  missing_pits = [x for x in range(pbp.index.min(),100) if not x in pbp.index]\n",
        "  for i in missing_pits:\n",
        "    pbp.loc[i] = 0\n",
        "  return pbp.sort_index()"
      ],
      "execution_count": null,
      "outputs": []
    },
    {
      "cell_type": "code",
      "metadata": {
        "colab": {
          "base_uri": "https://localhost:8080/",
          "height": 235
        },
        "id": "m6rdhWL8sa_l",
        "outputId": "3ad675d3-d95e-4514-d412-a81542958702"
      },
      "source": [
        "inc_pbp = incremental_pbp(maropt)\n",
        "inc_pbp[:5]"
      ],
      "execution_count": null,
      "outputs": [
        {
          "output_type": "execute_result",
          "data": {
            "text/html": [
              "<div>\n",
              "<style scoped>\n",
              "    .dataframe tbody tr th:only-of-type {\n",
              "        vertical-align: middle;\n",
              "    }\n",
              "\n",
              "    .dataframe tbody tr th {\n",
              "        vertical-align: top;\n",
              "    }\n",
              "\n",
              "    .dataframe thead th {\n",
              "        text-align: right;\n",
              "    }\n",
              "</style>\n",
              "<table border=\"1\" class=\"dataframe\">\n",
              "  <thead>\n",
              "    <tr style=\"text-align: right;\">\n",
              "      <th>NESTED2WASTE</th>\n",
              "      <th>Ore</th>\n",
              "      <th>Waste</th>\n",
              "      <th>TotalTon</th>\n",
              "      <th>TotalProfit</th>\n",
              "      <th>Profit/ton</th>\n",
              "    </tr>\n",
              "    <tr>\n",
              "      <th>NESTED2</th>\n",
              "      <th></th>\n",
              "      <th></th>\n",
              "      <th></th>\n",
              "      <th></th>\n",
              "      <th></th>\n",
              "    </tr>\n",
              "  </thead>\n",
              "  <tbody>\n",
              "    <tr>\n",
              "      <th>57</th>\n",
              "      <td>91013234.12</td>\n",
              "      <td>12925963.63</td>\n",
              "      <td>103939197.75</td>\n",
              "      <td>516609196.92</td>\n",
              "      <td>4.97</td>\n",
              "    </tr>\n",
              "    <tr>\n",
              "      <th>58</th>\n",
              "      <td>12029989.86</td>\n",
              "      <td>3538331.05</td>\n",
              "      <td>15568320.91</td>\n",
              "      <td>71437348.81</td>\n",
              "      <td>4.59</td>\n",
              "    </tr>\n",
              "    <tr>\n",
              "      <th>59</th>\n",
              "      <td>20397990.51</td>\n",
              "      <td>6263162.64</td>\n",
              "      <td>26661153.15</td>\n",
              "      <td>120645492.96</td>\n",
              "      <td>4.53</td>\n",
              "    </tr>\n",
              "    <tr>\n",
              "      <th>60</th>\n",
              "      <td>12649730.04</td>\n",
              "      <td>6104407.56</td>\n",
              "      <td>18754137.60</td>\n",
              "      <td>72732713.44</td>\n",
              "      <td>3.88</td>\n",
              "    </tr>\n",
              "    <tr>\n",
              "      <th>61</th>\n",
              "      <td>10741746.42</td>\n",
              "      <td>4778848.29</td>\n",
              "      <td>15520594.71</td>\n",
              "      <td>59824864.01</td>\n",
              "      <td>3.85</td>\n",
              "    </tr>\n",
              "  </tbody>\n",
              "</table>\n",
              "</div>"
            ],
            "text/plain": [
              "NESTED2WASTE         Ore       Waste     TotalTon  TotalProfit  Profit/ton\n",
              "NESTED2                                                                   \n",
              "57           91013234.12 12925963.63 103939197.75 516609196.92        4.97\n",
              "58           12029989.86  3538331.05  15568320.91  71437348.81        4.59\n",
              "59           20397990.51  6263162.64  26661153.15 120645492.96        4.53\n",
              "60           12649730.04  6104407.56  18754137.60  72732713.44        3.88\n",
              "61           10741746.42  4778848.29  15520594.71  59824864.01        3.85"
            ]
          },
          "metadata": {
            "tags": []
          },
          "execution_count": 8
        }
      ]
    },
    {
      "cell_type": "code",
      "metadata": {
        "id": "p0-vmGgEZwUB"
      },
      "source": [
        "def cumulative_pbp():\n",
        "  del inc_pbp[\"Profit/ton\"]\n",
        "  pbpCum = inc_pbp.cumsum()\n",
        "  pbpCum[\"Profit/ton\"] = pbpCum.TotalProfit/pbpCum.TotalTon\n",
        "  return pbpCum"
      ],
      "execution_count": null,
      "outputs": []
    },
    {
      "cell_type": "code",
      "metadata": {
        "colab": {
          "base_uri": "https://localhost:8080/",
          "height": 235
        },
        "id": "jcARfmMgudz7",
        "outputId": "4e8ec000-0004-4b2f-d5e7-f68a97483941"
      },
      "source": [
        "cum_pbp = cumulative_pbp()\n",
        "cum_pbp[:5]"
      ],
      "execution_count": null,
      "outputs": [
        {
          "output_type": "execute_result",
          "data": {
            "text/html": [
              "<div>\n",
              "<style scoped>\n",
              "    .dataframe tbody tr th:only-of-type {\n",
              "        vertical-align: middle;\n",
              "    }\n",
              "\n",
              "    .dataframe tbody tr th {\n",
              "        vertical-align: top;\n",
              "    }\n",
              "\n",
              "    .dataframe thead th {\n",
              "        text-align: right;\n",
              "    }\n",
              "</style>\n",
              "<table border=\"1\" class=\"dataframe\">\n",
              "  <thead>\n",
              "    <tr style=\"text-align: right;\">\n",
              "      <th>NESTED2WASTE</th>\n",
              "      <th>Ore</th>\n",
              "      <th>Waste</th>\n",
              "      <th>TotalTon</th>\n",
              "      <th>TotalProfit</th>\n",
              "      <th>Profit/ton</th>\n",
              "    </tr>\n",
              "    <tr>\n",
              "      <th>NESTED2</th>\n",
              "      <th></th>\n",
              "      <th></th>\n",
              "      <th></th>\n",
              "      <th></th>\n",
              "      <th></th>\n",
              "    </tr>\n",
              "  </thead>\n",
              "  <tbody>\n",
              "    <tr>\n",
              "      <th>57</th>\n",
              "      <td>91013234.12</td>\n",
              "      <td>12925963.63</td>\n",
              "      <td>103939197.75</td>\n",
              "      <td>516609196.92</td>\n",
              "      <td>4.97</td>\n",
              "    </tr>\n",
              "    <tr>\n",
              "      <th>58</th>\n",
              "      <td>103043223.98</td>\n",
              "      <td>16464294.68</td>\n",
              "      <td>119507518.66</td>\n",
              "      <td>588046545.73</td>\n",
              "      <td>4.92</td>\n",
              "    </tr>\n",
              "    <tr>\n",
              "      <th>59</th>\n",
              "      <td>123441214.49</td>\n",
              "      <td>22727457.32</td>\n",
              "      <td>146168671.81</td>\n",
              "      <td>708692038.69</td>\n",
              "      <td>4.85</td>\n",
              "    </tr>\n",
              "    <tr>\n",
              "      <th>60</th>\n",
              "      <td>136090944.53</td>\n",
              "      <td>28831864.88</td>\n",
              "      <td>164922809.41</td>\n",
              "      <td>781424752.13</td>\n",
              "      <td>4.74</td>\n",
              "    </tr>\n",
              "    <tr>\n",
              "      <th>61</th>\n",
              "      <td>146832690.95</td>\n",
              "      <td>33610713.17</td>\n",
              "      <td>180443404.12</td>\n",
              "      <td>841249616.13</td>\n",
              "      <td>4.66</td>\n",
              "    </tr>\n",
              "  </tbody>\n",
              "</table>\n",
              "</div>"
            ],
            "text/plain": [
              "NESTED2WASTE          Ore       Waste     TotalTon  TotalProfit  Profit/ton\n",
              "NESTED2                                                                    \n",
              "57            91013234.12 12925963.63 103939197.75 516609196.92        4.97\n",
              "58           103043223.98 16464294.68 119507518.66 588046545.73        4.92\n",
              "59           123441214.49 22727457.32 146168671.81 708692038.69        4.85\n",
              "60           136090944.53 28831864.88 164922809.41 781424752.13        4.74\n",
              "61           146832690.95 33610713.17 180443404.12 841249616.13        4.66"
            ]
          },
          "metadata": {
            "tags": []
          },
          "execution_count": 10
        }
      ]
    },
    {
      "cell_type": "markdown",
      "metadata": {
        "id": "CHfO_MMtnKbt"
      },
      "source": [
        "## **Pit by Pit and Profit/Ton graphs**"
      ]
    },
    {
      "cell_type": "code",
      "metadata": {
        "colab": {
          "base_uri": "https://localhost:8080/",
          "height": 676
        },
        "id": "CPtSgvPhCG-U",
        "outputId": "32e6db3c-799b-4d02-dc88-5878009c8687"
      },
      "source": [
        "labels = cum_pbp.index\n",
        "ore = cum_pbp.Ore.values\n",
        "waste = cum_pbp.Waste.values\n",
        "profit = cum_pbp.TotalProfit.values\n",
        "width = .7\n",
        "\n",
        "fig, axs = plt.subplots(2, figsize=(12,11))\n",
        "# Setting the values for all axes.\n",
        "plt.setp(axs, xlim=(56, 101), xticks=np.arange(57,101,2), xlabel=\"Pit Shell\")\n",
        "\n",
        "# Pit by Pit graph\n",
        "axs[0].bar(labels, ore, width, label='Ore', color='gold', edgecolor=\"gray\")\n",
        "axs[0].bar(labels, waste, width, label='Waste', color='darkgray', bottom=ore, edgecolor=\"gray\")\n",
        "ax2 = axs[0].twinx()\n",
        "ax2.plot(labels, profit, 'ro-',linewidth=3)\n",
        "\n",
        "axs[0].set_ylabel('Ton x10^8')\n",
        "ax2.set_ylabel('Profit x10^9 $')\n",
        "axs[0].set_title('Pit by Pit graph')\n",
        "axs[0].legend()\n",
        "\n",
        "# Profit/ton graph\n",
        "profit_ton = cum_pbp[\"Profit/ton\"].values\n",
        "axs[1].plot(labels, profit_ton, 'bo-',linewidth=3)\n",
        "axs[1].set_title('Cumulative Profit/Ton')\n",
        "\n",
        "plt.show()"
      ],
      "execution_count": null,
      "outputs": [
        {
          "output_type": "display_data",
          "data": {
            "image/png": "[encoded data removed]",
            "text/plain": [
              "<Figure size 864x792 with 3 Axes>"
            ]
          },
          "metadata": {
            "tags": [],
            "needs_background": "light"
          }
        }
      ]
    },
    {
      "cell_type": "markdown",
      "metadata": {
        "id": "KWRdjejzG0hy"
      },
      "source": [
        "## **Production Plan**"
      ]
    },
    {
      "cell_type": "code",
      "metadata": {
        "id": "McztIB3ckM7N"
      },
      "source": [
        "def production_plan(df):\n",
        "  col1 = ['TON', 'MAXVVALUE', 'CUEQ', 'NESTED2WASTE']\n",
        "  col2 = ['TON', 'MAXVVALUE', 'CUEQ', 'NESTED2WASTE'] + maropt.loc[:,\"age1\":\"age8\"].columns.to_list()\n",
        "  df = df[col2]\n",
        "  df2 = df.melt(id_vars=col1, var_name='Period', value_name='Proportion')\n",
        "\n",
        "  df2['Tonnage'] = df2['TON']*df2['Proportion']\n",
        "  ore = df2[df2['NESTED2WASTE']==0].groupby('Period')['Tonnage'].sum().rename('Ore')\n",
        "  waste = df2[df2['NESTED2WASTE']==1].groupby('Period')['Tonnage'].sum().rename('Waste')\n",
        "  total = (ore + waste).rename('Total')\n",
        "\n",
        "  df2['Value'] = df2['MAXVVALUE']*df2['Proportion']\n",
        "  value = df2.groupby('Period')['Value'].sum()\n",
        "\n",
        "  df2['Cu'] = df2['TON']*df2['Proportion']*df2['CUEQ']\n",
        "  cu = (df2[df2['NESTED2WASTE']==0].groupby('Period')['Cu'].sum()/ore).rename('Cu')\n",
        "\n",
        "  plan_df = pd.concat([ore, waste, total, cu, value], axis=1)\n",
        "  plan_df['Year'] = np.arange(1,9)\n",
        "  plan_df['NPV'] = plan_df['Value']/(1.1**plan_df['Year'])\n",
        "  plan_df.set_index('Year', inplace=True)\n",
        "  return plan_df"
      ],
      "execution_count": null,
      "outputs": []
    },
    {
      "cell_type": "code",
      "metadata": {
        "colab": {
          "base_uri": "https://localhost:8080/",
          "height": 328
        },
        "id": "QOVDRHTBmOvY",
        "outputId": "6e09ed02-2ebd-4acc-fc26-d4d109b184b9"
      },
      "source": [
        "prod = production_plan(maropt)\n",
        "prod"
      ],
      "execution_count": null,
      "outputs": [
        {
          "output_type": "execute_result",
          "data": {
            "text/html": [
              "<div>\n",
              "<style scoped>\n",
              "    .dataframe tbody tr th:only-of-type {\n",
              "        vertical-align: middle;\n",
              "    }\n",
              "\n",
              "    .dataframe tbody tr th {\n",
              "        vertical-align: top;\n",
              "    }\n",
              "\n",
              "    .dataframe thead th {\n",
              "        text-align: right;\n",
              "    }\n",
              "</style>\n",
              "<table border=\"1\" class=\"dataframe\">\n",
              "  <thead>\n",
              "    <tr style=\"text-align: right;\">\n",
              "      <th></th>\n",
              "      <th>Ore</th>\n",
              "      <th>Waste</th>\n",
              "      <th>Total</th>\n",
              "      <th>Cu</th>\n",
              "      <th>Value</th>\n",
              "      <th>NPV</th>\n",
              "    </tr>\n",
              "    <tr>\n",
              "      <th>Year</th>\n",
              "      <th></th>\n",
              "      <th></th>\n",
              "      <th></th>\n",
              "      <th></th>\n",
              "      <th></th>\n",
              "      <th></th>\n",
              "    </tr>\n",
              "  </thead>\n",
              "  <tbody>\n",
              "    <tr>\n",
              "      <th>1</th>\n",
              "      <td>19999999.52</td>\n",
              "      <td>16822157.72</td>\n",
              "      <td>36822157.24</td>\n",
              "      <td>0.57</td>\n",
              "      <td>15623705.37</td>\n",
              "      <td>14203368.52</td>\n",
              "    </tr>\n",
              "    <tr>\n",
              "      <th>2</th>\n",
              "      <td>19999992.69</td>\n",
              "      <td>0.00</td>\n",
              "      <td>19999992.69</td>\n",
              "      <td>0.71</td>\n",
              "      <td>61505158.77</td>\n",
              "      <td>50830709.73</td>\n",
              "    </tr>\n",
              "    <tr>\n",
              "      <th>3</th>\n",
              "      <td>19999998.51</td>\n",
              "      <td>4391690.67</td>\n",
              "      <td>24391689.18</td>\n",
              "      <td>0.85</td>\n",
              "      <td>89907829.80</td>\n",
              "      <td>67549083.24</td>\n",
              "    </tr>\n",
              "    <tr>\n",
              "      <th>4</th>\n",
              "      <td>20000000.95</td>\n",
              "      <td>1441248.93</td>\n",
              "      <td>21441249.88</td>\n",
              "      <td>0.94</td>\n",
              "      <td>113140764.09</td>\n",
              "      <td>77276664.22</td>\n",
              "    </tr>\n",
              "    <tr>\n",
              "      <th>5</th>\n",
              "      <td>20000001.17</td>\n",
              "      <td>72360.00</td>\n",
              "      <td>20072361.17</td>\n",
              "      <td>1.17</td>\n",
              "      <td>165276500.20</td>\n",
              "      <td>102623703.17</td>\n",
              "    </tr>\n",
              "    <tr>\n",
              "      <th>6</th>\n",
              "      <td>19999996.15</td>\n",
              "      <td>7252930.55</td>\n",
              "      <td>27252926.70</td>\n",
              "      <td>1.42</td>\n",
              "      <td>215440323.82</td>\n",
              "      <td>121610446.28</td>\n",
              "    </tr>\n",
              "    <tr>\n",
              "      <th>7</th>\n",
              "      <td>19999997.95</td>\n",
              "      <td>40000004.67</td>\n",
              "      <td>60000002.62</td>\n",
              "      <td>0.74</td>\n",
              "      <td>33539665.69</td>\n",
              "      <td>17211151.73</td>\n",
              "    </tr>\n",
              "    <tr>\n",
              "      <th>8</th>\n",
              "      <td>20000003.47</td>\n",
              "      <td>3953999.88</td>\n",
              "      <td>23954003.35</td>\n",
              "      <td>0.83</td>\n",
              "      <td>85906061.21</td>\n",
              "      <td>40075811.56</td>\n",
              "    </tr>\n",
              "  </tbody>\n",
              "</table>\n",
              "</div>"
            ],
            "text/plain": [
              "             Ore       Waste       Total   Cu        Value          NPV\n",
              "Year                                                                   \n",
              "1    19999999.52 16822157.72 36822157.24 0.57  15623705.37  14203368.52\n",
              "2    19999992.69        0.00 19999992.69 0.71  61505158.77  50830709.73\n",
              "3    19999998.51  4391690.67 24391689.18 0.85  89907829.80  67549083.24\n",
              "4    20000000.95  1441248.93 21441249.88 0.94 113140764.09  77276664.22\n",
              "5    20000001.17    72360.00 20072361.17 1.17 165276500.20 102623703.17\n",
              "6    19999996.15  7252930.55 27252926.70 1.42 215440323.82 121610446.28\n",
              "7    19999997.95 40000004.67 60000002.62 0.74  33539665.69  17211151.73\n",
              "8    20000003.47  3953999.88 23954003.35 0.83  85906061.21  40075811.56"
            ]
          },
          "metadata": {
            "tags": []
          },
          "execution_count": 13
        }
      ]
    },
    {
      "cell_type": "code",
      "metadata": {
        "colab": {
          "base_uri": "https://localhost:8080/",
          "height": 404
        },
        "id": "c2pskCFvmOyp",
        "outputId": "a89d78a9-d67e-4d44-a433-22bab788b436"
      },
      "source": [
        "labels = prod.index\n",
        "ore = prod.Ore.values\n",
        "waste = prod.Waste.values\n",
        "value = prod.Value.values\n",
        "npv = prod.NPV.values\n",
        "width = .7\n",
        "\n",
        "fig, ax = plt.subplots(figsize=(12,6))\n",
        "\n",
        "# Setting the values for all axes.\n",
        "plt.setp(ax, xlim=(0,9), xticks=np.arange(1,9), xlabel=\"Period\")\n",
        "\n",
        "# Pit by Pit graph\n",
        "ax.bar(labels, ore, width, label='Ore', color='gold', edgecolor=\"gray\")\n",
        "ax.bar(labels, waste, width, label='Waste', color='darkgray', bottom=ore, edgecolor=\"gray\")\n",
        "ax2 = ax.twinx()\n",
        "ax2.plot(labels, npv, 'ro-',linewidth=3)\n",
        "\n",
        "ax.set_ylabel('Ton x10^8')\n",
        "ax2.set_ylabel('NPV (x10^8 $)')\n",
        "ax.set_title('Preliminar Production Plan')\n",
        "ax.legend()\n",
        "\n",
        "plt.show()"
      ],
      "execution_count": null,
      "outputs": [
        {
          "output_type": "display_data",
          "data": {
            "image/png": "[encoded data removed]",
            "text/plain": [
              "<Figure size 864x432 with 2 Axes>"
            ]
          },
          "metadata": {
            "tags": [],
            "needs_background": "light"
          }
        }
      ]
    },
    {
      "cell_type": "code",
      "metadata": {
        "id": "mt26T496mO1i"
      },
      "source": [
        ""
      ],
      "execution_count": null,
      "outputs": []
    }
  ]
}